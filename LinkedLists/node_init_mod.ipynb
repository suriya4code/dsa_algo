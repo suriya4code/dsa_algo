{
 "cells": [
  {
   "cell_type": "code",
   "execution_count": 2,
   "metadata": {},
   "outputs": [],
   "source": [
    "class Node:\n",
    "    def __init__(self, dataval=None):\n",
    "        self.dataval = dataval\n",
    "        self.nextval = None\n",
    "    \n",
    "    def __repr__(self) -> str:\n",
    "        return self.dataval\n"
   ]
  },
  {
   "cell_type": "code",
   "execution_count": 12,
   "metadata": {},
   "outputs": [
    {
     "data": {
      "text/plain": [
       "1->2->3->4->None"
      ]
     },
     "execution_count": 12,
     "metadata": {},
     "output_type": "execute_result"
    }
   ],
   "source": [
    "class SLinkedList:\n",
    "    def __init__(self,nodes=None):\n",
    "        self.head = None\n",
    "        if nodes is not None:\n",
    "            node = Node(nodes.pop(0))\n",
    "            self.head = node\n",
    "            for elem in nodes:\n",
    "                node.nextval = Node(dataval=elem)\n",
    "                node = node.nextval\n",
    "    def __repr__(self):\n",
    "        node = self.head\n",
    "        nodes = []\n",
    "        while node is not None:\n",
    "            nodes.append(str(node.dataval))\n",
    "            node = node.nextval\n",
    "        nodes.append(\"None\")\n",
    "        return \"->\".join(nodes)\n",
    "    \n",
    "    def __iter__(self):\n",
    "        node = self.head\n",
    "        while node is not None:\n",
    "            yield node\n",
    "            node = node.nextval\n",
    "\n",
    "sl = SLinkedList([\"1\",\"2\",\"3\",\"4\"])\n",
    "sl\n"
   ]
  },
  {
   "cell_type": "code",
   "execution_count": 13,
   "metadata": {},
   "outputs": [
    {
     "name": "stdout",
     "output_type": "stream",
     "text": [
      "1\n",
      "2\n",
      "3\n",
      "5\n"
     ]
    }
   ],
   "source": [
    "sl = SLinkedList([\"1\",\"2\",\"3\",\"5\"])\n",
    "\n",
    "for node in sl:\n",
    "    print(node)\n"
   ]
  },
  {
   "cell_type": "code",
   "execution_count": 14,
   "metadata": {},
   "outputs": [
    {
     "data": {
      "text/plain": [
       "7->1->2->3->19->5->9->None"
      ]
     },
     "execution_count": 14,
     "metadata": {},
     "output_type": "execute_result"
    }
   ],
   "source": [
    "#Inserting at the beginning of the SL\n",
    "\n",
    "class SLinkedList2(SLinkedList):\n",
    "    def __init__(self, nodes):\n",
    "        SLinkedList.__init__(self, nodes)\n",
    "        nodes = nodes\n",
    "    \n",
    "    def insert_at_beg(self, value):\n",
    "        value.nextval = self.head\n",
    "        self.head = value\n",
    "    \n",
    "    def insert_at_end(self, value):\n",
    "        last_val = self.head\n",
    "        while last_val.nextval!= None:\n",
    "            last_val = last_val.nextval\n",
    "        last_val.nextval = value\n",
    "        value.nextval = None\n",
    "\n",
    "    def insert_after(self, target_data, value):\n",
    "        if self.head is None:\n",
    "            raise Exception('Cannot insert to empty list')\n",
    "        temp = self.head\n",
    "        while temp is not None:\n",
    "            if temp.dataval == target_data:\n",
    "                value.nextval = temp.nextval\n",
    "                temp.nextval = value\n",
    "                return\n",
    "            temp = temp.nextval\n",
    "        raise Exception('Cannot find node ')\n",
    "                \n",
    "\n",
    "        \n",
    "\n",
    "sl = SLinkedList2([\"1\",\"2\",\"3\",\"5\"])\n",
    "\n",
    "sl.insert_at_beg(Node(\"7\"))\n",
    "sl.insert_at_end(Node(\"9\"))\n",
    "sl.insert_after(\"3\",Node(\"19\"))\n",
    "\n",
    "sl\n"
   ]
  },
  {
   "cell_type": "code",
   "execution_count": 27,
   "metadata": {},
   "outputs": [
    {
     "data": {
      "text/plain": [
       "6->3->13->3->6->7->8->7->3->7->None"
      ]
     },
     "execution_count": 27,
     "metadata": {},
     "output_type": "execute_result"
    }
   ],
   "source": [
    "# A : [ 6 ,3 -> 3 -> 6 -> 7 -> 8 -> 7 -> 3 -> 7 ]\n",
    "# B : 3\n",
    "# C : 5\n",
    "\n",
    "lst = [ 6 ,3 ,3 ,6 ,7 ,8 ,7 ,3 ,7 ]\n",
    "\n",
    "sl3 = SLinkedList2(lst)\n",
    "sl3\n",
    "\n",
    "A = sl3.head\n",
    "\n",
    "B, C = 13, 2\n",
    "val = Node(B)\n",
    "cnt = 0\n",
    "temp = A\n",
    "\n",
    "while cnt <= C:\n",
    "    if C == 0:\n",
    "        val.nextval = A\n",
    "        sl3.head = val\n",
    "        break\n",
    "        # return val\n",
    "    elif C-1 == cnt:\n",
    "        val.nextval = temp.nextval\n",
    "        temp.nextval = val\n",
    "        break\n",
    "    else:\n",
    "        cnt += 1\n",
    "        temp = temp.nextval\n",
    "        \n",
    "sl3\n"
   ]
  },
  {
   "attachments": {},
   "cell_type": "markdown",
   "metadata": {},
   "source": [
    "## scaler_solved ans \n"
   ]
  },
  {
   "cell_type": "code",
   "execution_count": null,
   "metadata": {},
   "outputs": [],
   "source": [
    "# Definition for singly-linked list.\n",
    "class ListNode:\n",
    "   def __init__(self, x):\n",
    "       self.val = x\n",
    "       self.next = None\n",
    "\n",
    "class Solution:\n",
    "    # @param A : head node of linked list\n",
    "    # @param B : integer\n",
    "    # @param C : integer\n",
    "    # @return the head node in the linked list\n",
    "    def solve(self, A, B, C):\n",
    "        cnt = 0\n",
    "        temp = A\n",
    "        val = ListNode(B)\n",
    "\n",
    "        while cnt <= C:\n",
    "            if C == 0:\n",
    "                val.next = A           \n",
    "                return val\n",
    "            elif C-1 == cnt:\n",
    "                val.next = temp.next\n",
    "                temp.next = val\n",
    "                return A\n",
    "            else:\n",
    "                cnt += 1\n",
    "                if temp.next is not None:\n",
    "                    temp = temp.next\n",
    "                else:\n",
    "                    temp.next = val\n",
    "                    return A"
   ]
  },
  {
   "attachments": {},
   "cell_type": "markdown",
   "metadata": {},
   "source": [
    "Scaler Solution"
   ]
  },
  {
   "cell_type": "code",
   "execution_count": null,
   "metadata": {},
   "outputs": [],
   "source": [
    "# Definition for singly-linked list.\n",
    "# class ListNode:\n",
    "#    def __init__(self, x):\n",
    "#        self.val = x\n",
    "#        self.next = None\n",
    "\n",
    "class Solution:\n",
    "    # @param A : head node of linked list\n",
    "    # @param B : integer\n",
    "    # @param C : integer\n",
    "    # @return the head node in the linked list\n",
    "    def solve(self, A, B, C):\n",
    "        n = ListNode(B)\n",
    "        if C <= 0:\n",
    "            n.next = A\n",
    "            return n\n",
    "        \n",
    "        i = 0\n",
    "        temp = A\n",
    "        while i < C-1 and temp.next:\n",
    "            i += 1\n",
    "            temp = temp.next\n",
    "        \n",
    "        n.next = temp.next\n",
    "        temp.next = n\n",
    "        return A"
   ]
  },
  {
   "attachments": {},
   "cell_type": "markdown",
   "metadata": {},
   "source": [
    "Improvised my solution"
   ]
  },
  {
   "cell_type": "code",
   "execution_count": null,
   "metadata": {},
   "outputs": [],
   "source": []
  },
  {
   "cell_type": "code",
   "execution_count": null,
   "metadata": {},
   "outputs": [],
   "source": [
    "\n",
    "class Solution:\n",
    "    # @param A : head node of linked list\n",
    "    # @param B : integer\n",
    "    # @param C : integer\n",
    "    # @return the head node in the linked list\n",
    "    def solve(self, A, B, C):\n",
    "        if C == 0:\n",
    "                val.next = A           \n",
    "                return val\n",
    "        cnt = 0\n",
    "        temp = A\n",
    "        val = ListNode(B)\n",
    "\n",
    "        while cnt < C-1:\n",
    "            cnt += 1\n",
    "            if temp.next is not None:\n",
    "                temp = temp.next\n",
    "            else:\n",
    "                temp.next = val\n",
    "                return A\n",
    "        val.next = temp.next\n",
    "        temp.next = val\n",
    "        return A\n",
    "                "
   ]
  },
  {
   "cell_type": "code",
   "execution_count": 4,
   "metadata": {},
   "outputs": [
    {
     "data": {
      "text/plain": [
       "'1 2 3'"
      ]
     },
     "execution_count": 4,
     "metadata": {},
     "output_type": "execute_result"
    }
   ],
   "source": [
    "# Definition for singly-linked list.\n",
    "class ListNode:\n",
    "   def __init__(self, x):\n",
    "       self.val = x\n",
    "       self.next = None\n",
    "\n",
    "A = ListNode(1)\n",
    "B = ListNode(2)\n",
    "C = ListNode(3)\n",
    "A.next = B\n",
    "B.next = C\n",
    "\n",
    "\n",
    "def solve(A):\n",
    "    res = []\n",
    "    res.append(str(A.val))\n",
    "    while A.next != None:\n",
    "        A = A.next\n",
    "        res.append(str(A.val))\n",
    "    return \" \".join(res)\n",
    "\n",
    "solve(A)\n"
   ]
  }
 ],
 "metadata": {
  "kernelspec": {
   "display_name": "Python 3",
   "language": "python",
   "name": "python3"
  },
  "language_info": {
   "codemirror_mode": {
    "name": "ipython",
    "version": 3
   },
   "file_extension": ".py",
   "mimetype": "text/x-python",
   "name": "python",
   "nbconvert_exporter": "python",
   "pygments_lexer": "ipython3",
   "version": "3.10.6"
  },
  "orig_nbformat": 4,
  "vscode": {
   "interpreter": {
    "hash": "916dbcbb3f70747c44a77c7bcd40155683ae19c65e1c03b4aa3499c5328201f1"
   }
  }
 },
 "nbformat": 4,
 "nbformat_minor": 2
}
