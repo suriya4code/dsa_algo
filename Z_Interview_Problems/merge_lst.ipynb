{
 "cells": [
  {
   "attachments": {},
   "cell_type": "markdown",
   "metadata": {},
   "source": [
    "[1, 3], [6, 9] insert and merge [2, 5]\n",
    "\n",
    "[1, 3], [6, 9] insert and merge [2, 6] \n",
    "\n",
    "### Output 1:\n",
    "\n",
    " [ [1, 5], [6, 9] ]\n",
    "\n",
    "### Output 2:\n",
    "\n",
    " [ [1, 9] ]"
   ]
  },
  {
   "cell_type": "code",
   "execution_count": 13,
   "metadata": {},
   "outputs": [
    {
     "data": {
      "text/plain": [
       "[[1, 2], [3, 6]]"
      ]
     },
     "execution_count": 13,
     "metadata": {},
     "output_type": "execute_result"
    }
   ],
   "source": [
    "A = [[1,3], [6,9]]\n",
    "B = [2,5]\n",
    "A = [ [1, 2], [3, 4], [5, 6] ]\n",
    "B = [4, 5]\n",
    "def solve(A,B):\n",
    "    res = []\n",
    "    s,e = 0,1\n",
    "    ns, ne = B[s], B[e]\n",
    "    for i in range(len(A)):\n",
    "        \n",
    "        if A[i][e]<ns:\n",
    "            res.append(A[i])\n",
    "        elif ne < A[i][s]:\n",
    "            res.append([ns,ne])\n",
    "            while i < len(A):\n",
    "                res.append(A[i])\n",
    "                i+=1\n",
    "            return res\n",
    "        else:\n",
    "            #overlap suituation\n",
    "            ns = min(ns, A[i][s])\n",
    "            ne = max(ne, A[i][e])\n",
    "        \n",
    "    res.append([ns,ne])\n",
    "    return res\n",
    "solve(A,B)"
   ]
  },
  {
   "cell_type": "code",
   "execution_count": null,
   "metadata": {},
   "outputs": [],
   "source": [
    "# Definition for an interval.\n",
    "class Interval:\n",
    "    def __init__(self, s=0, e=0):\n",
    "        self.start = s\n",
    "        self.end = e\n",
    "\n",
    "class Solution:\n",
    "    # @param intervals, a list of Intervals\n",
    "    # @param newInterval, a Interval\n",
    "    # @return a list of Interval\n",
    "    def insert(self, intervals, newInterval):\n",
    "        A = intervals\n",
    "        B = newInterval\n",
    "        res = []\n",
    "        s,e = 0,1\n",
    "        ns, ne = B.start, B.end\n",
    "        for i in range(len(A)):\n",
    "            \n",
    "            if A[i].end<ns:\n",
    "                res.append(A[i])\n",
    "            elif ne < A[i].start:\n",
    "                res.append(Interval(ns,ne))\n",
    "                while i < len(A):\n",
    "                    res.append(A[i])\n",
    "                    i+=1\n",
    "                return res\n",
    "            else:\n",
    "                #overlap suituation\n",
    "                ns = min(ns, A[i].start)\n",
    "                ne = max(ne, A[i].end)\n",
    "            \n",
    "        res.append(Interval(ns,ne))\n",
    "        return res"
   ]
  }
 ],
 "metadata": {
  "kernelspec": {
   "display_name": "Python 3",
   "language": "python",
   "name": "python3"
  },
  "language_info": {
   "codemirror_mode": {
    "name": "ipython",
    "version": 3
   },
   "file_extension": ".py",
   "mimetype": "text/x-python",
   "name": "python",
   "nbconvert_exporter": "python",
   "pygments_lexer": "ipython3",
   "version": "3.10.6"
  },
  "orig_nbformat": 4,
  "vscode": {
   "interpreter": {
    "hash": "916dbcbb3f70747c44a77c7bcd40155683ae19c65e1c03b4aa3499c5328201f1"
   }
  }
 },
 "nbformat": 4,
 "nbformat_minor": 2
}
