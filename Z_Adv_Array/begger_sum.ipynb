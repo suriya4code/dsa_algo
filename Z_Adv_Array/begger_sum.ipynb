{
 "cells": [
  {
   "attachments": {},
   "cell_type": "markdown",
   "metadata": {},
   "source": [
    "There are A beggars sitting in a row outside a temple. Each beggar initially has an empty pot. When the devotees come to the temple, they donate some amount of coins to these beggars. Each devotee gives a fixed amount of coin(according to their faith and ability) to some K beggars sitting next to each other.\n",
    "\n",
    "Given the amount P donated by each devotee to the beggars ranging from L to R index, where 1 <= L <= R <= A, find out the final amount of money in each beggar's pot at the end of the day, provided they don't fill their pots by any other means.\n",
    "For ith devotee B[i][0] = L, B[i][1] = R, B[i][2] = P, Given by the 2D array B\n",
    "\n",
    "\n",
    "Problem Constraints\n",
    "1 <= A <= 2 * 105\n",
    "1 <= L <= R <= A\n",
    "1 <= P <= 103\n",
    "0 <= len(B) <= 105\n",
    "\n",
    "\n",
    "Input Format\n",
    "The first argument is a single integer A.\n",
    "The second argument is a 2D integer array B.\n",
    "\n",
    "\n",
    "Output Format\n",
    "Return an array(0 based indexing) that stores the total number of coins in each beggars pot.\n",
    "\n",
    "\n",
    "Example Input\n",
    "Input 1:-\n",
    "A = 5\n",
    "B = [[1, 2, 10], [2, 3, 20], [2, 5, 25]]\n",
    "\n",
    "\n",
    "Example Output\n",
    "Output 1:-\n",
    "10 55 45 25 25"
   ]
  },
  {
   "cell_type": "code",
   "execution_count": 16,
   "metadata": {},
   "outputs": [
    {
     "data": {
      "text/plain": [
       "[10, 55, 45, 25, 25]"
      ]
     },
     "execution_count": 16,
     "metadata": {},
     "output_type": "execute_result"
    }
   ],
   "source": [
    "A = 5\n",
    "B = [[1, 2, 10], [2, 3, 20], [2, 5, 25]]\n",
    "\n",
    "#brute force\n",
    "\n",
    "def solve(A, B):\n",
    "    # B.sort(key=lambda x: x[1])\n",
    "    # n = B[-1][1]\n",
    "    res = [0]*A\n",
    "    \n",
    "    for C in B:\n",
    "        for i in range(A):\n",
    "            if i in range(C[0]-1, C[1]):\n",
    "                res[i] = res[i] + C[2]\n",
    "\n",
    "\n",
    "    return res\n",
    "\n",
    "solve(A, B)\n"
   ]
  },
  {
   "cell_type": "code",
   "execution_count": 14,
   "metadata": {},
   "outputs": [
    {
     "data": {
      "text/plain": [
       "5"
      ]
     },
     "execution_count": 14,
     "metadata": {},
     "output_type": "execute_result"
    }
   ],
   "source": [
    "B = [[1, 2, 10], [2, 3, 20], [2, 5, 25]]\n",
    "\n"
   ]
  },
  {
   "cell_type": "code",
   "execution_count": 22,
   "metadata": {},
   "outputs": [
    {
     "data": {
      "text/plain": [
       "[10, 55, 45, 25, 25]"
      ]
     },
     "execution_count": 22,
     "metadata": {},
     "output_type": "execute_result"
    }
   ],
   "source": [
    "A = 5\n",
    "B = [[1, 2, 10], [2, 3, 20], [2, 5, 25]]\n",
    "\n",
    "def optimize(A, B):\n",
    "    res = [0]*A\n",
    "    for i in B:\n",
    "        res[i[0]-1] += i[2]\n",
    "        if i[1] < A:\n",
    "            res[i[1]] += -i[2]\n",
    "    ps = []\n",
    "    ps.append(res[0])\n",
    "    \n",
    "    for j in range(1,A):\n",
    "        ps.append(ps[j-1] + res[j])\n",
    "    return ps\n",
    "\n",
    "\n",
    "\n",
    "\n",
    "optimize(A,B)"
   ]
  }
 ],
 "metadata": {
  "kernelspec": {
   "display_name": "Python 3",
   "language": "python",
   "name": "python3"
  },
  "language_info": {
   "codemirror_mode": {
    "name": "ipython",
    "version": 3
   },
   "file_extension": ".py",
   "mimetype": "text/x-python",
   "name": "python",
   "nbconvert_exporter": "python",
   "pygments_lexer": "ipython3",
   "version": "3.10.6 (main, Nov 14 2022, 16:10:14) [GCC 11.3.0]"
  },
  "orig_nbformat": 4,
  "vscode": {
   "interpreter": {
    "hash": "916dbcbb3f70747c44a77c7bcd40155683ae19c65e1c03b4aa3499c5328201f1"
   }
  }
 },
 "nbformat": 4,
 "nbformat_minor": 2
}
