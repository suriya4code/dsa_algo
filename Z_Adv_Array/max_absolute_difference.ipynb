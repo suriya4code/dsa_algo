{
 "cells": [
  {
   "attachments": {},
   "cell_type": "markdown",
   "metadata": {},
   "source": [
    "### Problem Description\n",
    "You are given an array of N integers, A1, A2, .... AN.\n",
    "Return the maximum value of f(i, j) for all 1 ≤ i, j ≤ N. f(i, j) is defined as |A[i] - A[j]| + |i - j|, where |x| denotes absolute value of x.\n",
    "### Problem Constraints\n",
    "1 <= N <= 100000\n",
    "\n",
    "-109 <= A[i] <= 109\n",
    "## Input Format\n",
    "First argument is an integer array A of size N.\n",
    "### Output Format\n",
    "Return an integer denoting the maximum value of f(i, j).\n",
    "### Example Input\n",
    "Input 1:\n",
    "A = [1, 3, -1]\n",
    "Input 2:\n",
    "A = [2]\n",
    "### Example Output\n",
    "Output 1:\n",
    "5\n",
    "Output 2:\n",
    "0\n",
    "### Example Explanation\n",
    "Explanation 1:\n",
    "f(1, 1) = f(2, 2) = f(3, 3) = 0\n",
    "f(1, 2) = f(2, 1) = |1 - 3| + |1 - 2| = 3\n",
    "f(1, 3) = f(3, 1) = |1 - (-1)| + |1 - 3| = 4\n",
    "f(2, 3) = f(3, 2) = |3 - (-1)| + |2 - 3| = 5\n",
    "So, we return 5.\n",
    "Explanation 2:\n",
    "Only possibility is i = 1 and j = 1. That gives answer = 0."
   ]
  },
  {
   "cell_type": "code",
   "execution_count": 4,
   "metadata": {},
   "outputs": [
    {
     "data": {
      "text/plain": [
       "5"
      ]
     },
     "execution_count": 4,
     "metadata": {},
     "output_type": "execute_result"
    }
   ],
   "source": [
    "A = [1, 3, -1]\n",
    "\n",
    "#|A[i] - A[j]| + |i - j|\n",
    "\n",
    "def solve(A):\n",
    "    import math\n",
    "    min1 = math.inf\n",
    "    max1 = -math.inf\n",
    "    min2 = math.inf\n",
    "    max2 = -math.inf\n",
    "    n = len(A)\n",
    "\n",
    "    for i in range(n):\n",
    "\n",
    "        #arr[x]-x\n",
    "        x = A[i] - i\n",
    "        min1 = min(x, min1)\n",
    "        max1 = max(x, max1)\n",
    "\n",
    "        #arr[y]+y\n",
    "        y = A[i] + i\n",
    "        min2 = min(y, min2)\n",
    "        max2 = max(y, max2)\n",
    "\n",
    "    return max( max1-min1, max2-min2 )\n",
    "\n",
    "solve(A)"
   ]
  }
 ],
 "metadata": {
  "kernelspec": {
   "display_name": "Python 3",
   "language": "python",
   "name": "python3"
  },
  "language_info": {
   "codemirror_mode": {
    "name": "ipython",
    "version": 3
   },
   "file_extension": ".py",
   "mimetype": "text/x-python",
   "name": "python",
   "nbconvert_exporter": "python",
   "pygments_lexer": "ipython3",
   "version": "3.10.6"
  },
  "orig_nbformat": 4,
  "vscode": {
   "interpreter": {
    "hash": "916dbcbb3f70747c44a77c7bcd40155683ae19c65e1c03b4aa3499c5328201f1"
   }
  }
 },
 "nbformat": 4,
 "nbformat_minor": 2
}
