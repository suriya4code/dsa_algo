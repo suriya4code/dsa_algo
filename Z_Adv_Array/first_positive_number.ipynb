{
 "cells": [
  {
   "attachments": {},
   "cell_type": "markdown",
   "metadata": {},
   "source": [
    "Given an unsorted integer array, A of size N. Find the first missing positive integer.\n",
    "\n",
    "Note: Your algorithm should run in O(n) time and use constant space."
   ]
  },
  {
   "cell_type": "code",
   "execution_count": 6,
   "metadata": {},
   "outputs": [],
   "source": [
    "A = [3, 4, -1, 1]\n",
    "\n",
    "def solve(A):\n",
    "    n = len(A)\n",
    "    i = 0\n",
    "    while i < n:\n",
    "        if A[i] != i+1:\n",
    "            if A[i-1] != A[i]:\n",
    "                A[i], A[i-1] = A[i-1], A[i]\n",
    "            else: i+=1\n",
    "        else:\n",
    "            i+=1\n",
    "    return A\n",
    "\n",
    "\n",
    "solve(A)\n"
   ]
  }
 ],
 "metadata": {
  "kernelspec": {
   "display_name": "Python 3",
   "language": "python",
   "name": "python3"
  },
  "language_info": {
   "codemirror_mode": {
    "name": "ipython",
    "version": 3
   },
   "file_extension": ".py",
   "mimetype": "text/x-python",
   "name": "python",
   "nbconvert_exporter": "python",
   "pygments_lexer": "ipython3",
   "version": "3.10.6"
  },
  "orig_nbformat": 4,
  "vscode": {
   "interpreter": {
    "hash": "916dbcbb3f70747c44a77c7bcd40155683ae19c65e1c03b4aa3499c5328201f1"
   }
  }
 },
 "nbformat": 4,
 "nbformat_minor": 2
}
