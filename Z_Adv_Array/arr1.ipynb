{
 "cells": [
  {
   "cell_type": "code",
   "execution_count": 1,
   "metadata": {},
   "outputs": [
    {
     "data": {
      "text/plain": [
       "-20"
      ]
     },
     "execution_count": 1,
     "metadata": {},
     "output_type": "execute_result"
    }
   ],
   "source": [
    "A = [-2, 1, -3, 4, -1, 2, 1, -5, 4] \n",
    "A = [ -163, -20 ]\n",
    "\n",
    "def solve(A):\n",
    "    n = len(A)\n",
    "    if n ==0:\n",
    "        return 0\n",
    "    import math\n",
    "    sum_of = 0\n",
    "    ans = -math.inf\n",
    "    for i in A:\n",
    "        sum_of += i\n",
    "        ans = max(ans, sum_of)\n",
    "        if sum_of < 0:\n",
    "            sum_of = 0\n",
    "    return ans\n",
    "\n",
    "solve(A)\n"
   ]
  }
 ],
 "metadata": {
  "kernelspec": {
   "display_name": "Python 3",
   "language": "python",
   "name": "python3"
  },
  "language_info": {
   "codemirror_mode": {
    "name": "ipython",
    "version": 3
   },
   "file_extension": ".py",
   "mimetype": "text/x-python",
   "name": "python",
   "nbconvert_exporter": "python",
   "pygments_lexer": "ipython3",
   "version": "3.10.6 (main, Nov 14 2022, 16:10:14) [GCC 11.3.0]"
  },
  "orig_nbformat": 4,
  "vscode": {
   "interpreter": {
    "hash": "916dbcbb3f70747c44a77c7bcd40155683ae19c65e1c03b4aa3499c5328201f1"
   }
  }
 },
 "nbformat": 4,
 "nbformat_minor": 2
}
