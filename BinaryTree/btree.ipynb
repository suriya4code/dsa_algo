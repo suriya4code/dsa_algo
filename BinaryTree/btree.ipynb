{
 "cells": [
  {
   "cell_type": "code",
   "execution_count": 5,
   "metadata": {},
   "outputs": [
    {
     "data": {
      "text/plain": [
       "2"
      ]
     },
     "execution_count": 5,
     "metadata": {},
     "output_type": "execute_result"
    }
   ],
   "source": [
    "# Binary Tree in Python\n",
    " \n",
    "# node that hold data, address of the left child, and address of the right child\n",
    "class Node:\n",
    "   def __init__(self, key):\n",
    "       # setting left and right child equal to NULL\n",
    "       self.left = None\n",
    "       self.right = None\n",
    "      \n",
    "       # inserting data into the node\n",
    "       self.val = key\n",
    " \n",
    "root = Node(1)\n",
    "root.left = Node(2)\n",
    "root.right = Node(3)\n",
    "root.left.left = Node(4)\n",
    "root.right.right = Node(5)\n",
    "root.left.right = Node(6)\n",
    "root.right.left = Node(7)\n",
    "\n",
    "\n",
    "root.left.val"
   ]
  },
  {
   "cell_type": "code",
   "execution_count": 12,
   "metadata": {},
   "outputs": [],
   "source": [
    "res = []\n",
    "def inorderTraversal(A):\n",
    "    if A == None: return\n",
    "    inorderTraversal(A.left)\n",
    "    res.append(A.val)\n",
    "    inorderTraversal(A.right)\n"
   ]
  },
  {
   "cell_type": "code",
   "execution_count": 13,
   "metadata": {},
   "outputs": [
    {
     "data": {
      "text/plain": [
       "[4, 2, 6, 1, 7, 3, 5]"
      ]
     },
     "execution_count": 13,
     "metadata": {},
     "output_type": "execute_result"
    }
   ],
   "source": [
    "inorderTraversal(root)\n",
    "res"
   ]
  },
  {
   "cell_type": "code",
   "execution_count": null,
   "metadata": {},
   "outputs": [],
   "source": [
    "# Definition for a  binary tree node\n",
    "# class TreeNode:\n",
    "#\tdef __init__(self, x):\n",
    "#\t\tself.val = x\n",
    "#\t\tself.left = None\n",
    "#\t\tself.right = None\n",
    "\n",
    "class Solution:\n",
    "\t# @param A : root node of tree\n",
    "\t# @return a list of integers\n",
    "    # res = []\n",
    "    def solve(self,A, res):\n",
    "        if A == None: return\n",
    "        self.solve(A.left, res)\n",
    "        res.append(A.val)\n",
    "        self.solve(A.right, res)\n",
    "\n",
    "\tdef inorderTraversal(self, A):\n",
    "        res = []\n",
    "        self.solve(A,res)\n",
    "        return res\n"
   ]
  }
 ],
 "metadata": {
  "kernelspec": {
   "display_name": "Python 3",
   "language": "python",
   "name": "python3"
  },
  "language_info": {
   "codemirror_mode": {
    "name": "ipython",
    "version": 3
   },
   "file_extension": ".py",
   "mimetype": "text/x-python",
   "name": "python",
   "nbconvert_exporter": "python",
   "pygments_lexer": "ipython3",
   "version": "3.10.6 (main, Nov 14 2022, 16:10:14) [GCC 11.3.0]"
  },
  "orig_nbformat": 4,
  "vscode": {
   "interpreter": {
    "hash": "916dbcbb3f70747c44a77c7bcd40155683ae19c65e1c03b4aa3499c5328201f1"
   }
  }
 },
 "nbformat": 4,
 "nbformat_minor": 2
}
