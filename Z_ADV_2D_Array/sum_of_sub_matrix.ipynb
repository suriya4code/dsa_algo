{
 "cells": [
  {
   "attachments": {},
   "cell_type": "markdown",
   "metadata": {},
   "source": [
    "Problem Description\n",
    "Given a matrix of integers A of size N x M and multiple queries Q, for each query, find and return the submatrix sum.\n",
    "\n",
    "Inputs to queries are top left (b, c) and bottom right (d, e) indexes of submatrix whose sum is to find out.\n",
    "\n",
    "NOTE:\n",
    "\n",
    "Rows are numbered from top to bottom, and columns are numbered from left to right.\n",
    "Sum may be large, so return the answer mod 109 + 7."
   ]
  },
  {
   "cell_type": "code",
   "execution_count": 3,
   "metadata": {},
   "outputs": [
    {
     "data": {
      "text/plain": [
       "[22, 19, 19]"
      ]
     },
     "execution_count": 3,
     "metadata": {},
     "output_type": "execute_result"
    }
   ],
   "source": [
    "A = [[1, 2, 3], [4, 5, 6],[7, 8, 9]]\n",
    "B = [1, 2]\n",
    "C = [1, 2]\n",
    "D = [2, 3]\n",
    "E = [2, 3]\n",
    "\n",
    "def solve(A, B, C, D, E):\n",
    "    rows = len(A)\n",
    "    cols = len(A[0])\n",
    "    ps = [[0 for i in range(cols)] for j in range(rows)]\n",
    "\n",
    "    # step1: Row Sum\n",
    "    for r in range(rows):\n",
    "        rs = 0\n",
    "        for c in range(cols):\n",
    "            rs += A[r][c]\n",
    "            ps[r][c] = rs\n",
    "    \n",
    "    #step 2: Col Sum\n",
    "    for c in range(cols):\n",
    "        cs = 0\n",
    "        for r in range(rows):\n",
    "            cs += ps[r][c]\n",
    "            ps[r][c] = cs\n",
    "\n",
    "    #step 3: ans for query\n",
    "    res = []\n",
    "    for i in range(len(B)):\n",
    "        B[i], C[i], D[i], E[i] = B[i]-1, C[i]-1, D[i]-1, E[i]-1\n",
    "        ans = 0\n",
    "        ans = ans + ps[D[i]][E[i]]\n",
    "        if B[i]>0:\n",
    "            ans -= ps[  B[i]-1][E[i]]\n",
    "        if C[i] > 0:\n",
    "            ans -= ps[D[i]][C[i]-1]\n",
    "        if B[i]>0 and C[i]>0:\n",
    "            ans += ps[B[i]-1][C[i]-1]\n",
    "\n",
    "        res.append(ans%1000000007)\n",
    "    return res\n",
    "\n",
    "\n",
    "A = [[5, 17, 100, 11],[0, 0,  2,   8]]\n",
    "B = [1, 1,1]\n",
    "C = [1, 4,4]\n",
    "D = [2, 2,2]\n",
    "E = [2, 4,4]\n",
    "solve(A, B, C, D, E)"
   ]
  },
  {
   "cell_type": "code",
   "execution_count": 16,
   "metadata": {},
   "outputs": [
    {
     "data": {
      "text/plain": [
       "2"
      ]
     },
     "execution_count": 16,
     "metadata": {},
     "output_type": "execute_result"
    }
   ],
   "source": [
    "\n"
   ]
  }
 ],
 "metadata": {
  "kernelspec": {
   "display_name": "Python 3",
   "language": "python",
   "name": "python3"
  },
  "language_info": {
   "codemirror_mode": {
    "name": "ipython",
    "version": 3
   },
   "file_extension": ".py",
   "mimetype": "text/x-python",
   "name": "python",
   "nbconvert_exporter": "python",
   "pygments_lexer": "ipython3",
   "version": "3.10.6"
  },
  "orig_nbformat": 4,
  "vscode": {
   "interpreter": {
    "hash": "916dbcbb3f70747c44a77c7bcd40155683ae19c65e1c03b4aa3499c5328201f1"
   }
  }
 },
 "nbformat": 4,
 "nbformat_minor": 2
}
