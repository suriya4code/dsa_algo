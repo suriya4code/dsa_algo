{
 "cells": [
  {
   "attachments": {},
   "cell_type": "markdown",
   "metadata": {},
   "source": [
    "##### Problem Description\n",
    "Given a 2D Matrix A of dimensions N*N, we need to return the sum of all possible submatrices.\n",
    "\n",
    "##### Problem Constraints\n",
    "1 <= N <=30\n",
    "0 <= A[i][j] <= 10\n",
    "\n",
    "#### Input Format\n",
    "Single argument representing a 2-D array A of size N x N.\n",
    "#### Output Format\n",
    "Return an integer denoting the sum of all possible submatrices in the given matrix.\n",
    "\n",
    "#### Example Input\n",
    "Input 1:\n",
    "A = [ [1, 1]\n",
    "      [1, 1] ]\n",
    "Input 2:\n",
    "A = [ [1, 2]\n",
    "      [3, 4] ]\n",
    "\n",
    "#### Example Output\n",
    "Output 1:\n",
    "16\n",
    "Output 2:\n",
    "40"
   ]
  },
  {
   "cell_type": "code",
   "execution_count": 2,
   "metadata": {},
   "outputs": [
    {
     "data": {
      "text/plain": [
       "40"
      ]
     },
     "execution_count": 2,
     "metadata": {},
     "output_type": "execute_result"
    }
   ],
   "source": [
    "A = [ [1, 2], [3, 4] ]\n",
    "\n",
    "def solve(A):\n",
    "    r = len(A)\n",
    "    c = len(A[0])\n",
    "    ans = 0\n",
    "    for i in range(r):\n",
    "        for j in range(c):\n",
    "            ans += ( A[i][j]*(i+1)*(j+1)*(r-i)*(c-j) )\n",
    "    return ans\n",
    "\n",
    "solve(A)"
   ]
  }
 ],
 "metadata": {
  "kernelspec": {
   "display_name": "Python 3",
   "language": "python",
   "name": "python3"
  },
  "language_info": {
   "codemirror_mode": {
    "name": "ipython",
    "version": 3
   },
   "file_extension": ".py",
   "mimetype": "text/x-python",
   "name": "python",
   "nbconvert_exporter": "python",
   "pygments_lexer": "ipython3",
   "version": "3.10.6"
  },
  "orig_nbformat": 4,
  "vscode": {
   "interpreter": {
    "hash": "916dbcbb3f70747c44a77c7bcd40155683ae19c65e1c03b4aa3499c5328201f1"
   }
  }
 },
 "nbformat": 4,
 "nbformat_minor": 2
}
